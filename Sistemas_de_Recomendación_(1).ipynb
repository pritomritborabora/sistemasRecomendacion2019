{
  "nbformat": 4,
  "nbformat_minor": 0,
  "metadata": {
    "colab": {
      "name": "Copy of Sistemas de Recomendación (1).ipynb",
      "provenance": []
    },
    "kernelspec": {
      "name": "python3",
      "display_name": "Python 3"
    }
  },
  "cells": [
    {
      "cell_type": "markdown",
      "metadata": {
        "id": "x-1Mpx5mNCY0",
        "colab_type": "text"
      },
      "source": [
        "# Sistemas de Recomendación (1)"
      ]
    },
    {
      "cell_type": "markdown",
      "metadata": {
        "id": "wTXMCx73M_uE",
        "colab_type": "text"
      },
      "source": [
        "En esta serie de notebooks vamos a explorar algunas técnicas tradicionales de recomendación como:\n",
        "\n",
        "*   Recomendación no personalizada y estereotipada (basada en popularidad).\n",
        "*   Recomendación basada en contenido.\n",
        "*   Recomendación basada en filtrado colaborativo.\n",
        "*   Recomendación basada en factorización de matrices.\n",
        "\n",
        "### Objetivos\n",
        "\n",
        "Implementar algunos sistemas de recomendación simples para entender su funcionamiento utilizando un dataset de películas.\n",
        "\n",
        "## Repasemos... qué son los sistemas de recomedación?\n",
        "\n",
        "Los sistemas de recomendación se encuentran en la actualidad entre las aplicaciones de Data Science más populares. Son algoritmos \"simples\" que intentan proveer información relevante a los usuarios a partir de descubrir patrones en los datasets. Por ejemplo, la frase típica que aparece en las tiendas virtuales \"Quienes compraron esto, también compraron...\"\n",
        "\n",
        "<p align=\"center\">\n",
        "<img src=\"https://github.com/caiomiyashiro/RecommenderSystemsNotebooks/raw/359c2f549cec31842e14bee5a3dfdd252817f32f/images/notebook1_image1.jpeg\" alt=\"Naïve recommendation\" style=\"width: 400px;\"/>\n",
        "</p>\n",
        "\n",
        "El uso masivo de Internet fue uno de los factores que resaltó la importancia de los sistemas de recomendación. Debido a la sobrecarga de información que \"sufrimos\" a diario, puede ser dificil encontrar (o incluso definir) aquello que se quiere o desea. En contrapartida, la gran cantidad de datos e información disponible permitió la creación de plataformas para su análsis y permitir proveer a los usuarios solo la información que pueda resultarles relevante."
      ]
    },
    {
      "cell_type": "markdown",
      "metadata": {
        "id": "o4JYj3hlQIqP",
        "colab_type": "text"
      },
      "source": [
        "## Manos a la obra!\n",
        "\n",
        "Para el propósito de este notebook, vamos a trabajar con colecciones de películas y sus ratings. Vamos a utilizar un [dataset](http://files.grouplens.org/datasets/movielens/ml-100k.zip) creado por la *University of Minnesota* que contiene 100k ratings pertenecientes a 1k usuarios sobre 1.7k películas."
      ]
    },
    {
      "cell_type": "markdown",
      "metadata": {
        "id": "CXR4Cx9jQkTP",
        "colab_type": "text"
      },
      "source": [
        "## Recomendaciones no personalizadas\n",
        "\n",
        "La forma más básica de recomendación es la no-personalizada, que no considera ni las preferencias de los individuos ni su contexto para la realización de las recomendaciones. \n",
        "\n",
        "Por ejemplo, pensemos en un usuario nuevo de Amazon (o su plataforma favorita de ventas por internet). Cuando recién cree su perfil no va a haber comprado ningún artículo, entonce Amazon no va a poder conocer cuales son los intereses o gustos de este nuevo usuario. Entonces, la mejor manera para realizar las primeras recomendaciones a este usuario es mostrarle lo que otros usuarios hayan comprado, independientemente de sus gustos individuales. \n",
        "\n",
        "\n",
        "\n",
        "\n",
        "\n"
      ]
    },
    {
      "cell_type": "markdown",
      "metadata": {
        "id": "9gW7dHefB3BI",
        "colab_type": "text"
      },
      "source": [
        "Lo primero que vamos a hacer es importar las bibliotecas necesarias:"
      ]
    },
    {
      "cell_type": "code",
      "metadata": {
        "id": "SWRrK6AaSx0q",
        "colab_type": "code",
        "colab": {}
      },
      "source": [
        "import pandas as pd \n",
        "import numpy as np"
      ],
      "execution_count": 0,
      "outputs": []
    },
    {
      "cell_type": "markdown",
      "metadata": {
        "id": "T03kY02tTmFw",
        "colab_type": "text"
      },
      "source": [
        "A continuación, leeremos los datos utilizando `read_csv`. Las columnas del dataset se encuentra separado por `\\t`, de modo que debemos pasarlo como parámetro. Finalmente, también pasamos por parámetro los nombres de las columnas.\n"
      ]
    },
    {
      "cell_type": "code",
      "metadata": {
        "id": "1ze_ahtoTsfx",
        "colab_type": "code",
        "colab": {}
      },
      "source": [
        "url = 'https://raw.githubusercontent.com/tommantonela/sistemasRecomendacion2019/master/ml-100k/u.data'\n",
        "df = pd.read_csv(url, sep='\\t', names=['user_id','movie_id','rating','timestamp'])"
      ],
      "execution_count": 0,
      "outputs": []
    },
    {
      "cell_type": "markdown",
      "metadata": {
        "id": "D5Pu8yGmitrA",
        "colab_type": "text"
      },
      "source": [
        "Vamos a imprimir parte de los datos para ver con qué estamos tratando."
      ]
    },
    {
      "cell_type": "code",
      "metadata": {
        "id": "nmfOYqcyizRQ",
        "colab_type": "code",
        "colab": {}
      },
      "source": [
        "df.head()"
      ],
      "execution_count": 0,
      "outputs": []
    },
    {
      "cell_type": "markdown",
      "metadata": {
        "id": "2ki_tcR8i3lk",
        "colab_type": "text"
      },
      "source": [
        "Cada una de las filas representa el rating que un usuario le dió a una película. Entonces:\n",
        "\n",
        "*   `user_id`. Id del usuario asignando el rating a la película.\n",
        "*   `movie_id`. Id de la película a la que el `user_id` asignó el rating. \n",
        "*   `rating`. En escala de 1 a 5.\n",
        "*   `timestamp`. Momento temporal en el que el rating fue asignado.\n",
        "\n",
        " Vamos a asociarle a cada id su título correspondiente. Para ello, cargamos el archivo que contiene el mapping entre los `ids` y los `movie_title` (y los géneros a los que pertenecen las películas)."
      ]
    },
    {
      "cell_type": "code",
      "metadata": {
        "id": "LMNdc6r-i8t8",
        "colab_type": "code",
        "colab": {}
      },
      "source": [
        "url = 'https://raw.githubusercontent.com/tommantonela/sistemasRecomendacion2019/master/ml-100k/u.item'\n",
        "movie_info = pd.read_csv(url,sep='|', encoding='latin-1', header=None, names=['movie_id','movie_title','release_date','movie_release_date',\n",
        "                                                                              'IMDb url','unknown','Action','Adventure','Animation','Children','Comedy',\n",
        "                                                                              'Crime','Documentary','Drama','Fantasy','Film-Noir','Horror','Musical',\n",
        "                                                                              'Mystery','Romance','Sci-Fi','Thriller','War','Western'])\n",
        "\n",
        "movie_info = movie_info.drop('movie_release_date', axis=1) # eliminamos la columna movie_release_date que es NaN para todos los registros\n",
        "movie_info = movie_info.drop('IMDb url', axis=1) # eliminamos esta columna que no aporta ninguna información relevante\n",
        "movie_info.head()"
      ],
      "execution_count": 0,
      "outputs": []
    },
    {
      "cell_type": "markdown",
      "metadata": {
        "id": "7wWXjjotkEkc",
        "colab_type": "text"
      },
      "source": [
        "Luego,  mergeamos ambos `data frames`."
      ]
    },
    {
      "cell_type": "code",
      "metadata": {
        "id": "8CUhygc7kFdW",
        "colab_type": "code",
        "colab": {}
      },
      "source": [
        "df = pd.merge(df, movie_info, on='movie_id')\n",
        "df.head()"
      ],
      "execution_count": 0,
      "outputs": []
    },
    {
      "cell_type": "markdown",
      "metadata": {
        "id": "LtRTjokwnTtW",
        "colab_type": "text"
      },
      "source": [
        "Vamos a visualizar algunas estadísticas del dataset."
      ]
    },
    {
      "cell_type": "code",
      "metadata": {
        "id": "iQLyxDEfnRmh",
        "colab_type": "code",
        "colab": {}
      },
      "source": [
        "df.describe()"
      ],
      "execution_count": 0,
      "outputs": []
    },
    {
      "cell_type": "markdown",
      "metadata": {
        "id": "esbFUplLJhcH",
        "colab_type": "text"
      },
      "source": [
        "Y ahora el histograma de los ratings."
      ]
    },
    {
      "cell_type": "code",
      "metadata": {
        "id": "BFvEpPsAWN6r",
        "colab_type": "code",
        "colab": {}
      },
      "source": [
        "df['rating'].hist(bins=5)"
      ],
      "execution_count": 0,
      "outputs": []
    },
    {
      "cell_type": "markdown",
      "metadata": {
        "id": "GgiATuHbvlGg",
        "colab_type": "text"
      },
      "source": [
        "La recomendación no personalizada generalmente se encuentra basada en el cálculo de alguna métrica que retorna un valor para cada elemento que luego permite ordenarlos. Por ejemplo:\n",
        "\n",
        "*   ***Rating promedio***. Cuál es el rating promedio de un elemento particular.\n",
        "*   ***Cantidad de ratings***. Una medida de popularidad. Cuántos usuarios ratiaron un elemento? (ya sea para bien o para mal).\n",
        "*    ***Porcentaje de buenos ratings***. Dado un *threshold* (por ejemplo, 4), qué porcentaje de usuarios dieron un buen rating al elemento?\n",
        "*    ***Asociación***. Dados todos los usuarios que ratearon el elemento A, qué porcentaje de ellos también ratearon el elemento B?\n",
        "*    ***Pearson Correlation***. Dado el rating que un usuario le dió al elemento A, se correlaciona con el rating que la misma persona le dió al elemento B?"
      ]
    },
    {
      "cell_type": "markdown",
      "metadata": {
        "id": "o198rJF8L0T3",
        "colab_type": "text"
      },
      "source": [
        "Vamos a crear dos funciones. Primero, una función que reciba todos los valores de la métrica `column` calculado y retorne el los mejores `n` elementos. Segundo, una función que nos permita graficar los resultados.\n"
      ]
    },
    {
      "cell_type": "code",
      "metadata": {
        "id": "GQciEdnOvp_I",
        "colab_type": "code",
        "colab": {}
      },
      "source": [
        "def return_best_n(statistics, n,column):\n",
        "    # statistics: array of size review.shape[1] containing one statistic calculated from the dataset\n",
        "    # n: number of indices to be returned\n",
        "    # returns: array of size *n* containing the indices of the best scored statistics\n",
        "    statistics = pd.DataFrame(statistics)\n",
        "    #statistics.head()\n",
        "    return statistics.sort_values(by=column,axis=0, ascending = False).iloc[:n]\n",
        "\n",
        "import matplotlib.pyplot as plt # la vamos a usar para graficar\n",
        "import seaborn as sns\n",
        "\n",
        "def graphics(statistics):\n",
        "    plt.figure(figsize=(16,6))\n",
        "    ax = sns.barplot(x=statistics['rating'], y=statistics['movie_title'], data=statistics, palette='deep')\n",
        "    plt.title('Movie Ranking', weight='bold')\n",
        "    plt.xlabel('Score', weight='bold')\n",
        "    plt.ylabel('Movie Title', weight='bold')"
      ],
      "execution_count": 0,
      "outputs": []
    },
    {
      "cell_type": "markdown",
      "metadata": {
        "id": "rLYrpodM0sd0",
        "colab_type": "text"
      },
      "source": [
        "Ahora, vamos a ver los resultados para distintas métricas.\n",
        "\n",
        "#### Cantidad de ratings"
      ]
    },
    {
      "cell_type": "code",
      "metadata": {
        "id": "s85pJLn10pFC",
        "colab_type": "code",
        "colab": {}
      },
      "source": [
        "ratings = pd.DataFrame(df.groupby('movie_title',as_index=True)['rating'].count().reset_index())\n",
        "best = return_best_n(ratings,10,'rating')\n",
        "\n",
        "graphics(best)"
      ],
      "execution_count": 0,
      "outputs": []
    },
    {
      "cell_type": "markdown",
      "metadata": {
        "id": "2wll2L1_0n9E",
        "colab_type": "text"
      },
      "source": [
        "#### Rating promedio\n",
        "\n",
        "Independientemente de la cantidad de ratings que hayan recibido las películas, cual es el promedio de esos rankings?\n"
      ]
    },
    {
      "cell_type": "code",
      "metadata": {
        "id": "a5eqzPcFvubi",
        "colab_type": "code",
        "colab": {}
      },
      "source": [
        "ratings = pd.DataFrame(df.groupby('movie_title')['rating'].mean())\n",
        "best = return_best_n(ratings,10,'rating')\n",
        "best.head()"
      ],
      "execution_count": 0,
      "outputs": []
    },
    {
      "cell_type": "markdown",
      "metadata": {
        "id": "vh3jemHSDH_z",
        "colab_type": "text"
      },
      "source": [
        "En los resultados vemos que hay películas que tienen ratings promedio perfectos. Vamos a ver, para la película mejor rankeada cuántos ratings tuvo."
      ]
    },
    {
      "cell_type": "code",
      "metadata": {
        "id": "IPgte_ImDT5X",
        "colab_type": "code",
        "colab": {}
      },
      "source": [
        "df[df['movie_title']==' '] # TODO: Completar con el título de la película mejor rankeada."
      ],
      "execution_count": 0,
      "outputs": []
    },
    {
      "cell_type": "markdown",
      "metadata": {
        "id": "D5WD88grEBox",
        "colab_type": "text"
      },
      "source": [
        "Aquellas películas que cuentan con un único rating no resultan muy útiles para la recomendación. \n",
        "Vamos a eliminar todas las películas que tengan menos reviews que el $25\\%$ de las películas, es decir, el primer cuartil."
      ]
    },
    {
      "cell_type": "code",
      "metadata": {
        "id": "wr5lr9j7ENuA",
        "colab_type": "code",
        "colab": {}
      },
      "source": [
        "counts = pd.DataFrame(df.groupby('movie_title',as_index=True)['rating'].count().reset_index())\n",
        "\n",
        "first_quantile = counts['rating'].quantile(0.25)\n",
        "\n",
        "titles = counts[counts['rating'] > first_quantile]['movie_title'] #acá nos quedamos con los títulos de las pelis con una cantidad de reviews mayores al 1er quartil\n",
        "\n",
        "df = df[df['movie_title'].isin(titles)]\n",
        "\n",
        "df.shape\n"
      ],
      "execution_count": 0,
      "outputs": []
    },
    {
      "cell_type": "markdown",
      "metadata": {
        "id": "SDho7JhQO11a",
        "colab_type": "text"
      },
      "source": [
        "Ahora, volvemos a calcular el rating promedio:"
      ]
    },
    {
      "cell_type": "code",
      "metadata": {
        "id": "PncEVSUiJm-u",
        "colab_type": "code",
        "colab": {}
      },
      "source": [
        "ratings = pd.DataFrame(df.groupby('movie_title',as_index=True)['rating'].mean().reset_index())\n",
        "best = return_best_n(ratings,10,'rating')\n",
        "best"
      ],
      "execution_count": 0,
      "outputs": []
    },
    {
      "cell_type": "code",
      "metadata": {
        "id": "eNtLgdp_KMMf",
        "colab_type": "code",
        "colab": {}
      },
      "source": [
        "graphics(best)"
      ],
      "execution_count": 0,
      "outputs": []
    },
    {
      "cell_type": "markdown",
      "metadata": {
        "id": "UrL_ix2Z3LwW",
        "colab_type": "text"
      },
      "source": [
        "#### Porcentaje de buenas reviews (>= 4)\n",
        "\n",
        "Qué tenemos que hacer?\n",
        "\n",
        "1.   Filtrar reviews con puntaje mayor o igual que 4.\n",
        "2.   Dividir por el total de las reviews.\n",
        "\n",
        "Tip: Resumen de las [funciones de agregación](https://pandas.pydata.org/pandas-docs/stable/getting_started/basics.html#descriptive-statistics)"
      ]
    },
    {
      "cell_type": "code",
      "metadata": {
        "id": "UxhfxWhP3LFU",
        "colab_type": "code",
        "colab": {}
      },
      "source": [
        "counts = pd.DataFrame(df.groupby('movie_title',as_index=True)['rating'].count().reset_index()) # como antes, contamos cuantos ratings tienen la películas\n",
        "\n",
        "filtered = df[df['rating'] > 4]  # filtramos las reviews con puntaje mayor a 4\n",
        "filtered = pd.DataFrame(filtered.groupby('movie_title',as_index=True)['rating'].count().reset_index()) # calculamos cuantos ratings > 4 tienen las películas\n",
        "\n",
        "merged = pd.merge(filtered, counts, on='movie_title') # mergeamos ambos data frames\n",
        "\n",
        "merged.head()\n"
      ],
      "execution_count": 0,
      "outputs": []
    },
    {
      "cell_type": "code",
      "metadata": {
        "id": "GYQ1mOuNPDEs",
        "colab_type": "code",
        "colab": {}
      },
      "source": [
        "merged['rating'] = merged['rating_x'] / merged['rating_y']\n",
        "best = return_best_n(merged,10,'rating')\n",
        "best"
      ],
      "execution_count": 0,
      "outputs": []
    },
    {
      "cell_type": "code",
      "metadata": {
        "id": "mLMnSBjSPxj1",
        "colab_type": "code",
        "colab": {}
      },
      "source": [
        "graphics(best)"
      ],
      "execution_count": 0,
      "outputs": []
    },
    {
      "cell_type": "markdown",
      "metadata": {
        "id": "sj6Uhe2-6JQK",
        "colab_type": "text"
      },
      "source": [
        "#### Usando la métrica de IMDb\n",
        "\n",
        "IMDb tuvo (todavía tiene?) su propia métrica para el agregado de los ratings de las películas, que se define como\":\n",
        "\n",
        "<p align=\"center\">\n",
        "<img src=\"https://miro.medium.com/max/552/1*fGziZl2Do-VyQXSCPq_Y2Q.png\" alt=\"Weighted Rating\" style=\"width: 400px;\"/>\n",
        "</p>\n",
        "\n",
        "Qué tenemos que hacer?\n",
        "\n",
        "1.   Calcular los ratings promedios de las películas (ya lo hicimos antes).\n",
        "2.   Calcular la cantidad de ratings de las películas (ya lo hicimos antes).\n",
        "3.   Calcular la cantidad mínima de ratings para estar en el Top de películas. En este caso como la cantidad de votos recibida por el 70% de las películas. (ya hicimos algo parecido).\n",
        "4.    Calcular el rating promedio general (ya hicimos algo parecido).\n",
        "5.    Calcular W a partir de todos los otros valores (ya hicimos algo parecido).\n",
        "\n"
      ]
    },
    {
      "cell_type": "code",
      "metadata": {
        "id": "JSQUzeIbQHpo",
        "colab_type": "code",
        "colab": {}
      },
      "source": [
        "# TODO!\n",
        "averages = # completar\n",
        "counts = # completar\n",
        "minimum = # completar\n",
        "general_average = # completar\n",
        "\n",
        "merged = pd.merge(averages, counts, on='movie_title')\n",
        "merged['IMDb Metric'] = (merged['rating_x']*merged['rating_y'] + general_average*minimum)/(merged['rating_y'] + minimum)\n",
        "\n",
        "best = return_best_n(merged,10,'IMDb Metric')\n",
        "best"
      ],
      "execution_count": 0,
      "outputs": []
    },
    {
      "cell_type": "markdown",
      "metadata": {
        "id": "6B6ip-e24uGg",
        "colab_type": "text"
      },
      "source": [
        "#### Pearson Correlation\n",
        "\n",
        "El análisis de correlaciones evalúa si los ratings que un usuario da a un elemento A puede dar \"pistas\" respecto al rating que daría al elemento B. \n",
        "\n",
        "Una correlación cercada a $1$ indica que los usuarios tienen a darle a ambas películas involucradas ratings similares. En este caso, se permiten realizar recomendaciones del tipo \"Como te gustó X, te podría gustar Y\".\n",
        "\n",
        "Vamos a calcular la correlación del rating medio de las películas respecto a la película con la promedio de ratings en la mediana (es decir, la película cuyo rating promedio se encuentra en el cuartil $0.5$).\n"
      ]
    },
    {
      "cell_type": "code",
      "metadata": {
        "id": "_VBwEE90KC9B",
        "colab_type": "code",
        "colab": {}
      },
      "source": [
        "averages = pd.DataFrame(df.groupby('movie_title',as_index=True)['rating'].mean().reset_index())\n",
        "mediana = averages.quantile(0.5)\n",
        "\n",
        "median_movie = averages[averages['rating'] == mediana[0]]\n",
        "median_movie = median_movie.iloc[0]['movie_title'] # en caso de que haya más de una, nos quedamos con la primera que retornó\n",
        "median_movie"
      ],
      "execution_count": 0,
      "outputs": []
    },
    {
      "cell_type": "code",
      "metadata": {
        "id": "f9Vs-ibu416D",
        "colab_type": "code",
        "colab": {}
      },
      "source": [
        "# recordemos que df tiene las películas con más reviews que el 25% de ellas\n",
        "\n",
        "# para calcular la correlación necesitamos una matriz de películas x ratings, donde las columnas representen a cada una de las películas\n",
        "movie_matrix = df.pivot_table(index='user_id', columns='movie_title', values='rating') \n",
        "\n",
        "movie_matrix.head()"
      ],
      "execution_count": 0,
      "outputs": []
    },
    {
      "cell_type": "code",
      "metadata": {
        "id": "zhGLROesUf09",
        "colab_type": "code",
        "colab": {}
      },
      "source": [
        "# nos quedamos con la columna de los ratings de la película que queremos\n",
        "median_movie_ratings = movie_matrix[median_movie]\n",
        "\n",
        "# calculamos la correlación de toda la matriz con la columna seleccionada. El resultado es una matriz de películas x películas\n",
        "correlation = movie_matrix.corrwith(median_movie_ratings)\n",
        "\n",
        "correlation.sort_values(ascending=False) #ordenamos\n",
        "\n",
        "corr_contact = pd.DataFrame(correlation, columns=['Correlation']) #pasamos a un data frame\n",
        "corr_contact.dropna(inplace=True) # sacamos los NaN\n",
        "corr_contact.head()\n"
      ],
      "execution_count": 0,
      "outputs": []
    },
    {
      "cell_type": "markdown",
      "metadata": {
        "id": "e6Gd5Ywa42lh",
        "colab_type": "text"
      },
      "source": [
        "## Recomendación estereotipada\n",
        "\n",
        "Una pequeña \"mejora\" que se puede hacer a la recomendación no personalizada es la recomendación estereotipada. Por ejemplo, los rankings por sexo/género, edad o ciudad, pueden mejorar la calidad de las recomendaciones si se cree que entre los elementos a recomendar existe realmente una diferenciación de acuerdo a las características de los diferentes segmentos.\n",
        "\n",
        "Qué pasa si tenemos en cuenta información demográfica para hacer las recomendaciones? Por ejemplo, varían las recomendaciones si consideramos el sexo/género de quienes ratearon las películas?\n",
        "\n",
        "Primero, tenemos que cargar la información de los usuarios y mergearla en la tabla de reviews."
      ]
    },
    {
      "cell_type": "code",
      "metadata": {
        "id": "ZFbvTinx5YKC",
        "colab_type": "code",
        "colab": {}
      },
      "source": [
        "url = 'https://raw.githubusercontent.com/tommantonela/sistemasRecomendacion2019/master/ml-100k/u.user'\n",
        "user_info = pd.read_csv(url, sep='|', names=['user_id','age','gender','occupation','zip_code'])\n",
        "\n",
        "user_info.head()"
      ],
      "execution_count": 0,
      "outputs": []
    },
    {
      "cell_type": "code",
      "metadata": {
        "id": "EW9oK9SzXEUj",
        "colab_type": "code",
        "colab": {}
      },
      "source": [
        "df = df.merge(user_info, on='user_id',how='inner')\n",
        "df.head()"
      ],
      "execution_count": 0,
      "outputs": []
    },
    {
      "cell_type": "code",
      "metadata": {
        "id": "Z0kIUfJtSvn7",
        "colab_type": "code",
        "colab": {}
      },
      "source": [
        "# Películas mejor rankeadas para mujeres\n",
        "averages_F = pd.DataFrame(df[df['gender'] == 'F'].groupby('movie_title',as_index=True)['rating'].mean().reset_index())\n",
        "best = return_best_n(averages_F,10,'rating')\n",
        "best"
      ],
      "execution_count": 0,
      "outputs": []
    },
    {
      "cell_type": "code",
      "metadata": {
        "id": "lj59vT1bZjlH",
        "colab_type": "code",
        "colab": {}
      },
      "source": [
        "graphics(best)"
      ],
      "execution_count": 0,
      "outputs": []
    },
    {
      "cell_type": "code",
      "metadata": {
        "id": "EvmskPIrS0v1",
        "colab_type": "code",
        "colab": {}
      },
      "source": [
        "# Películas mejor rankeadas para hombres TODO!\n",
        "averages_M = # completar\n",
        "best = # completar\n",
        "best"
      ],
      "execution_count": 0,
      "outputs": []
    },
    {
      "cell_type": "markdown",
      "metadata": {
        "id": "mnzGAvWc5d9b",
        "colab_type": "text"
      },
      "source": [
        "#### Diferencia de rating promedio\n",
        "\n",
        "En qué películas los hombres y mujeres tienen mayores diferencias para calificar?\n"
      ]
    },
    {
      "cell_type": "code",
      "metadata": {
        "id": "J_n3wZGI5eaT",
        "colab_type": "code",
        "colab": {}
      },
      "source": [
        "merged = pd.merge(averages_F, averages_M, on='movie_title', suffixes=['_F',\"_M\"])\n",
        "\n",
        "merged['f-m'] = merged['rating_F'] - merged['rating_M']\n",
        "\n",
        "highest = return_best_n(merged,10,'f-m')\n",
        "highest\n"
      ],
      "execution_count": 0,
      "outputs": []
    },
    {
      "cell_type": "code",
      "metadata": {
        "id": "AiTsfkyq5mBq",
        "colab_type": "code",
        "colab": {}
      },
      "source": [
        "# y al revés? \n",
        "# completar"
      ],
      "execution_count": 0,
      "outputs": []
    },
    {
      "cell_type": "markdown",
      "metadata": {
        "id": "kQ8zHz4eSusD",
        "colab_type": "text"
      },
      "source": [
        "## Ventajas y desventajas de la recomendación no personalizada\n",
        "\n",
        "### Ventajas\n",
        "\n",
        "*   No se necesita tener información previa de los usuarios respecto a sus gustos.\n",
        "*   Las estadísticas calculadas con simple y fácilmente explicables.\n",
        "\n",
        "### Desventajas\n",
        "\n",
        "*    Para poder proveer buenas estadísticas, los elementos deben tener una cantidad razonable de reviews, lo que también implica tener una cantidad razonable de usuarios.\n",
        "*    Al tratar a todos los usuarios de la misma forma, no es posible la identificación de grupos de usuarios (no referido solo a grupos demográficos).\n",
        "*    Las recomendaciones estereotipadas solo serán útiles si existen productos que fueron específicamente diseñados para dichos grupos.\n"
      ]
    },
    {
      "cell_type": "markdown",
      "metadata": {
        "id": "zxt4irzgSGQG",
        "colab_type": "text"
      },
      "source": [
        "## Peeero, un problema salvaje aparece!\n",
        "\n",
        "Como vimos estas recomendaciones simples se encuentran basadas en *scores* que pueden ser calculadas a partir de indicadores básicos:\n",
        "\n",
        "*    *Explícitos*. Evaluaciones provistas de forma directa por los usuarios, por ejemplo, ratings, scores, likes, ...\n",
        "*    *Implícitos*. Derivadas del comportamiento implícito del usuario como por ejemplo clicks, tiempo en una página, accesos, ...\n",
        "\n",
        "The most basic way to provide recommendations is a non-personalised one que no tome en ceunta las preferencias individuales de los usuarios. \n",
        "\n",
        "Las métricas ***explícitas*** son \"buenas\" porque se puede preguntar de forma directa al usuario qué es lo que piensa. Sin embargo, algunos problemas aparecen.\n",
        "\n",
        "1.   Cómo los usuarios saben como reflejar sus gustos en un valor numérico?\n",
        "2.   La definición de los ratings varía de usuario a usuario. Por ejemplo, algunos usuarios pueden ratear la película con un 5 cuando es lo que esperaba, mientras que para otros eso representa un rating de 3 y solo califican con 5 a aquellas películas que superaron sus expectativas.\n",
        "3.   La definición de los ratings varía a lo largo del tiempo. Un usuario puede dar dos ratings distintos para el mismo elemento en distintos momemntos temporales.\n",
        "\n",
        "Por otra parte, las ***implícitas*** asumen que las acciones de los usuarios \"dicen más que su palabras\". Asimismo, recolectar comportamiento es más rápido que esperar a que el usuario asigne ratings y se encuentra ajeno al juicio humano inherente a las métricas explícitas. Sin embargo, tratar con las múltiples variables derivadas puede no ser sencillo, debiendo definir adecuadamente los pesos a considerar de acuerdo al dominio.\n",
        "\n",
        "### Rating con estrellas\n",
        "\n",
        "Uno de los tipos principales de ratings que se utiliza hoy en día se encuentra basado en los ratings de 5 estrellas. Utilizado por empresas como Amazon, anteriormente por Netflix y TripAdvisor, estas empresas utilizan estas evaluaciones para trazar un perfil entre los usuarios y sus productos, para realizar recomendaciones no personalizadas y personalizadas.\n",
        "\n",
        "Pero, *qué significa asignar 1 o 5 estrellas?*\n",
        "\n",
        "Las dificultades comienzan cuando la escala no se encuentra configurada o definida correctamente. Por supuesto, existen límites para ello, pero generalmente no se  proporcionan referencias concretas en las que basar la calificación. Este escenario trae inestabilidad a las distribuciones de calificaciones y empeora debido a la percepción humana, que tiende a asignar ratings de forma instantánea.\n",
        "\n",
        "*Evaluación contextual y temporal*\n",
        "\n",
        "El gusto y los intereses de los usuarios puede variar mucho según el contexto. En este contexto, utilizar funciones agregadas de los ratings puede involucrar el cálculo sobre ratings provistos en distintos contexto, lo que puede dar lugar a recomendaciones inestables y no confiables.\n",
        "\n",
        "[Fischhoff, 1991](https://www.cmu.edu/dietrich/sds/docs/fischhoff/ValueElictationAnythngThere.pdf) estudiaron qué es lo uqe los usuarios tienen en cuenta al momento de asignar los ratings, encontrando que los mismos son asignados de forma instantánea, sin consierar factores históricos como el gusto personal o las características del nuevo elemento en relación a los elementos previos. Simplemente, se trata de *me gustó* o *no me gustó*. El problema con esta situación es que los ratings que asignan los usuarios a los elementos pueden variar si vuelven a ser asignados, lo que agrega más ruido a los ratings.\n",
        "\n",
        "### Efecto de la variabilidad de los ratings\n",
        "\n",
        "Supóngase que se cuenta con un elemento que tiene un rating promedio de $4.8$. Ahora, un nuevo usuario le asigna un rating de $1$. En este contexto, el nuevo rating será: \n",
        "\n",
        "$$4.8 - \\frac{4.8 - 1}{100} = 4.762$$  \n",
        "\n",
        "Ahora, cuál será el rating si en lugar de aisgnar un $1$, se hubiese asignado un $5$?\n",
        "\n",
        "$$4.8 - \\frac{4.8 - 5}{100} = 4.802$$\n",
        "\n",
        "Nótese que el efecto de un mal ranking es mayor que el efecto de un buen ránking. El problema es que el promedio asigna un mayor peso a los scores que se encuetran más lejanos al promedio. Entonces, como el promedio que teníamos estaba más cercano al $5$ que al $1$, el $1$ tiene un mayor impacto en el promedio final.\n",
        "\n",
        "Pero, qué pasaría si se quisiera recuperar el rating promedio que se tenía antes del $1$? Es decir, cuántos ratings de $5$ son necesarios para volver al promedio anterior?\n"
      ]
    },
    {
      "cell_type": "code",
      "metadata": {
        "id": "zA6wCO9Idtne",
        "colab_type": "code",
        "colab": {}
      },
      "source": [
        "rating_promedio_actual = 4.762\n",
        "count = 0\n",
        "while(rating_promedio_actual <= 4.8):\n",
        "    rating_promedio_actual = rating_promedio_actual - ((rating_promedio_actual - 5)/100)\n",
        "    print('Nuevo Rating: ' + str(rating_promedio_actual))\n",
        "    count += 1\n",
        "print('Se necesitaron ' + str(count) + ' ratings para volver al promedio original.')"
      ],
      "execution_count": 0,
      "outputs": []
    },
    {
      "cell_type": "markdown",
      "metadata": {
        "id": "jz3d_xN7dxeK",
        "colab_type": "text"
      },
      "source": [
        "Entonces, considerando un promedio original de $4.8$ se requirieron $18$ ratings de 5 puntos para volver a dicho promedio original, sin contar la posibilidad de que otro usuario le haya asignado otro $1$.\n",
        "\n",
        "#### Qué se puede hacer?\n",
        "\n",
        "* Mantener los ratings, pero considerar también la variabilidad en los procesos de rateo de los usuarios.\n",
        "\n",
        "Debería funcionar de la misma forma que las métricas que utilizamos hasta ahora, con la diferencia que el rating o score final dado a un elemento ahora considera cuánto se desvía el rating asignado respecto al rating promedio asignado por el usuario. Dado el promedio anterior $Sc_{D}$, el rating promedio del usuario $AVG(R_{p})$ y el rating del elemento actual $R_{p,d}$, el rating debería ser actualizado como:\n",
        "\n",
        "$$Sc_{D} = Sc_{D} + \\frac{AVG(R_{p}) - R_{p,d}}{100}$$\n",
        "\n",
        "Este enfoque solo soluciona los problemas de escala entre los distintos usuarios pero no soluciona la penalización que el promedio da a los ratings bajos que los usuarios dan a elementos con promedios altos.\n",
        "\n",
        "* Utilizar valoraciones binarias (solo positivo o negativo).\n",
        "\n",
        "Como el actualmente utilizado por Netflix. Permite hacer más sencillo el problema de asignar ratings.\n"
      ]
    },
    {
      "cell_type": "markdown",
      "metadata": {
        "id": "BE-c9psZ_M8r",
        "colab_type": "text"
      },
      "source": [
        "## Recomendación basada en contenido\n",
        "\n",
        "En este tipo de recomendaciones, no se necesita contar con una gran cantidad de usuarios, sino contar con una descripción de los elementos y los perfiles de los usuarios, los cuales deben matchear. \n",
        "\n",
        "### Ventajas\n",
        "\n",
        "*   No se necesita gran cantidad de usuarios para proveer recomendaciones confiables.\n",
        "*   Pueden darse recomendaciones solo considerando las características de los elementos.\n",
        "\n",
        "### Desventajas\n",
        "\n",
        "* Las descripciones de los elementos pueden no ser sencillas de construir.\n",
        "* Los usuarios no utilizan tags de forma homogénea.\n"
      ]
    },
    {
      "cell_type": "markdown",
      "metadata": {
        "id": "2_GtlijQ-_UA",
        "colab_type": "text"
      },
      "source": [
        "Una forma muy sencilla de realizar recomendaciones basadas en contenido es hacer uso de los tags que les fueran asignados a los elementos.\n",
        "\n",
        "Para esta primera parte, vamos a usar otro [dataset](https://raw.githubusercontent.com/codeheroku/Introduction-to-Machine-Learning/master/Building%20a%20Movie%20Recommendation%20Engine/movie_dataset.csv) que también tiene información de películas, género, director, tags, actores y demás; y una libría para hacer más fácil los cálculos."
      ]
    },
    {
      "cell_type": "code",
      "metadata": {
        "id": "tVi43vPD_Nad",
        "colab_type": "code",
        "colab": {}
      },
      "source": [
        "# como veníamos haciendo antes, vamos a cargar el dataset\n",
        "url = 'https://raw.githubusercontent.com/codeheroku/Introduction-to-Machine-Learning/master/Building%20a%20Movie%20Recommendation%20Engine/movie_dataset.csv'\n",
        "movies_2 = pd.read_csv(url)\n",
        "\n",
        "movies_2.head()\n"
      ],
      "execution_count": 0,
      "outputs": []
    },
    {
      "cell_type": "markdown",
      "metadata": {
        "id": "qY2gJsUo_leV",
        "colab_type": "text"
      },
      "source": [
        "Al visualizar el dataset se ve que existe información extra acerca de las películas, la cual no es necesaria. Entonces, vamos solo a seleccionar los tags o `keywords`, el `cast`, los `genres` y el `director`, es decir, todo aquello que pueda conseridarse como `contenido` de las películas. \n",
        "\n",
        "Para ello, vamos a seleccionar esos features y crear una función que nos haga el `join` de todos esos campos"
      ]
    },
    {
      "cell_type": "code",
      "metadata": {
        "id": "8z1S7nPs_-Ra",
        "colab_type": "code",
        "colab": {}
      },
      "source": [
        "features = ['keywords','cast','genres','director']"
      ],
      "execution_count": 0,
      "outputs": []
    },
    {
      "cell_type": "code",
      "metadata": {
        "id": "JkMdBPRG_uBj",
        "colab_type": "code",
        "colab": {}
      },
      "source": [
        "def combine_features(row):\n",
        "    return row['keywords']+\" \"+row['cast']+\" \"+row['genres']+\" \"+row['director']"
      ],
      "execution_count": 0,
      "outputs": []
    },
    {
      "cell_type": "markdown",
      "metadata": {
        "id": "AbT8vUhm_yD3",
        "colab_type": "text"
      },
      "source": [
        "Ahora necesitamos invocar a la función `combine_feature` a cada fila del data frame. Pero antes de eso, vamos a \"limpiar\"  y pre-procesar los datos. Para ello vamos a reemplazar los NaN por espacios en blanco.\n"
      ]
    },
    {
      "cell_type": "code",
      "metadata": {
        "id": "UEmP97Mz_2Rg",
        "colab_type": "code",
        "colab": {}
      },
      "source": [
        "\n",
        "for feature in features:\n",
        "    movies_2[feature] = movies_2[feature].fillna('') #filling all NaNs with blank string\n",
        "\n",
        "movies_2['combined_features'] = movies_2.apply(combine_features,axis=1) #applying combined_features() method over each rows of dataframe and storing the combined string in \"combined_features\" column\n",
        "\n",
        "movies_2[['original_title','combined_features']].head()"
      ],
      "execution_count": 0,
      "outputs": []
    },
    {
      "cell_type": "markdown",
      "metadata": {
        "id": "MHKITb8iQkw2",
        "colab_type": "text"
      },
      "source": [
        "Una vez que se tienen los `String` combinados, se puede utilizar un `CountVectorizer()` para obtener la matriz de frecuencias.\n",
        "\n",
        "Now that we have obtained the combined strings, we can now feed these strings to a CountVectorizer() object for getting the count matrix."
      ]
    },
    {
      "cell_type": "code",
      "metadata": {
        "id": "KtI4N2PLQ0lz",
        "colab_type": "code",
        "colab": {}
      },
      "source": [
        "from sklearn.feature_extraction.text import CountVectorizer\n",
        "\n",
        "cv = CountVectorizer() #creating new CountVectorizer() object\n",
        "count_matrix = cv.fit_transform(movies_2['combined_features']) #feeding combined strings(movie contents) to CountVectorizer() object\n"
      ],
      "execution_count": 0,
      "outputs": []
    },
    {
      "cell_type": "markdown",
      "metadata": {
        "id": "uE804wbmRBOE",
        "colab_type": "text"
      },
      "source": [
        "Vamos a calcular el `cosine similarity`:"
      ]
    },
    {
      "cell_type": "code",
      "metadata": {
        "id": "-ZGdYcbCRB42",
        "colab_type": "code",
        "colab": {}
      },
      "source": [
        "from sklearn.metrics.pairwise import cosine_similarity\n",
        "\n",
        "cosine_sim = cosine_similarity(count_matrix) # nos retorna un numpy.ndarray\n",
        "\n",
        "cosine_sim.shape\n"
      ],
      "execution_count": 0,
      "outputs": []
    },
    {
      "cell_type": "markdown",
      "metadata": {
        "id": "eNf2-g74RiUj",
        "colab_type": "text"
      },
      "source": [
        "El próximo paso es obtener los títulos de las películas en las que los usuarios se encuentran actualmente interesados. Luego vamos a encontar el índice de la película y relacionarlo con la semejanza calculada. En consecuencia, vamos a obtener la semejanza para con todas las otras películas de una película dada. Dichas semejazas son enumeradas y transformadas en una tupla que contiene `(movie id, similarity score)`.\n"
      ]
    },
    {
      "cell_type": "code",
      "metadata": {
        "id": "4BuciWX8RpIw",
        "colab_type": "code",
        "colab": {}
      },
      "source": [
        "movie_user_likes = \"Harry Potter and the Order of the Phoenix\"\n",
        "movie_index = movies_2[movies_2['original_title'] == movie_user_likes][\"index\"].values[0]\n",
        "similar_movies = list(enumerate(cosine_sim[movie_index])) #accedemos a la fila correspondiente a una película dada para obtener sus semejanzas con el resto.\n",
        "print(similar_movies)"
      ],
      "execution_count": 0,
      "outputs": []
    },
    {
      "cell_type": "markdown",
      "metadata": {
        "id": "YCA7fyotSOgv",
        "colab_type": "text"
      },
      "source": [
        "Ahora viene la parte más importante. Como veníamos haciendo antes, hay que ordenar la lista de películas similares de forma descendente, descartando si misma de la lista.\n"
      ]
    },
    {
      "cell_type": "code",
      "metadata": {
        "id": "I0xWdUaaSPRt",
        "colab_type": "code",
        "colab": {}
      },
      "source": [
        "sorted_similar_movies = sorted(similar_movies,key=lambda x:x[1],reverse=True)[1:]\n",
        "\n",
        "sorted_similar_movies = sorted_similar_movies[0:10] # nos interesan solo las 10 primeras\n",
        "\n",
        "x = [p[0] for p in sorted_similar_movies] # obtenemos los index de las películas\n",
        "\n",
        "movie_titles = movies_2[movies_2['index'].isin(x)]\n",
        "\n",
        "movie_titles['original_title']\n",
        "\n",
        "\n",
        "\n"
      ],
      "execution_count": 0,
      "outputs": []
    },
    {
      "cell_type": "markdown",
      "metadata": {
        "id": "InJ8ODUA_c0T",
        "colab_type": "text"
      },
      "source": [
        "### Volviendo al dataset que estábamos usando...\n",
        "\n",
        "El dataset que tenemos cargado, no tiene asociado contenido para las diferentes películas ni tags ni reviews, así que vamos a cargar otro archivo con tags para cada película."
      ]
    },
    {
      "cell_type": "code",
      "metadata": {
        "id": "IJY_FvfqxZCx",
        "colab_type": "code",
        "colab": {}
      },
      "source": [
        "url = 'https://raw.githubusercontent.com/tommantonela/sistemasRecomendacion2019/master/ml-20m/tags.csv'\n",
        "tags = pd.read_csv(url, sep=',', names=['user_id','movie_id','tag','timestamp'],header=0)\n",
        "\n",
        "url = 'https://raw.githubusercontent.com/tommantonela/sistemasRecomendacion2019/master/ml-20m/movies.csv'\n",
        "full_movies = pd.read_csv(url, sep=',', names=['movie_id','movie_title','genres'],header=0)\n",
        "full_movies = full_movies.drop('genres', axis=1) # tenemos que cargar los títulos porque los ids de las películas difieren de dataset en dataset\n",
        "\n",
        "tags = pd.merge(tags,full_movies, on='movie_id')\n",
        "\n",
        "print(str(tags.shape))\n",
        "\n",
        "tags.head()"
      ],
      "execution_count": 0,
      "outputs": []
    },
    {
      "cell_type": "markdown",
      "metadata": {
        "id": "ap6rfq2cx6X_",
        "colab_type": "text"
      },
      "source": [
        "Como este dataset tiene muchas más películas que con el que veníamos trabajando, vamos a eliminar todos los tags pertenecientes a las películas que no tenemos."
      ]
    },
    {
      "cell_type": "code",
      "metadata": {
        "id": "Xfl1mp2Oy4q4",
        "colab_type": "code",
        "colab": {}
      },
      "source": [
        "titles = df['movie_title'] #acá nos quedamos con los títulos de las pelis con una cantidad de reviews mayores al 1er cuartil (lo que habíamos calculado para los otros tipos de recomendaciones)\n",
        "\n",
        "tags = tags[tags['movie_title'].isin(titles)]\n",
        "print(str(tags.shape))\n",
        "\n",
        "tags.head()"
      ],
      "execution_count": 0,
      "outputs": []
    },
    {
      "cell_type": "markdown",
      "metadata": {
        "id": "7uWKigeCzVtA",
        "colab_type": "text"
      },
      "source": [
        "Ahora ya tenemos la información de los tags para las diferentes películas que ya teníamos. En el dataframe `tags` cada fila representa una asignación de `tag` a una película.\n",
        "Vamos a poder:\n",
        "\n",
        "*   Crear descripciones de las películas en base a todos los tags que les hayan sido asignados. Con esto se puede determinar la semejanza entre las películas.\n",
        "*   Crear perfiles de los usuarios con todos los tags que haya asignado a las películas. Con esto luego se puede determinar su semejanza con la descripción de otras películas.\n",
        "\n"
      ]
    },
    {
      "cell_type": "code",
      "metadata": {
        "id": "mZl4zPcp0dBb",
        "colab_type": "code",
        "colab": {}
      },
      "source": [
        "# creación de las descripciones de las películas\n",
        "\n",
        "tag_matrix = tags.pivot_table(index='user_id', columns='movie_title', values='tag',aggfunc='first')\n",
        "tag_matrix.head()\n",
        "\n",
        "# tag_matrix['101 Dalmatians (1996)'].dropna() # ejemplo para ver los tags asociados a una película determinada"
      ],
      "execution_count": 0,
      "outputs": []
    },
    {
      "cell_type": "code",
      "metadata": {
        "id": "UgHPnc5H6oS2",
        "colab_type": "code",
        "colab": {}
      },
      "source": [
        "# creación de los perfiles de usuario\n",
        "#user_tag_matrix = tags.pivot_table(index='movie_title', columns='user_id', values='tag',aggfunc='first')\n",
        "\n",
        "# user_tag_matrix[65].dropna() # ejemplo para ver el perfil de un usuario en particular"
      ],
      "execution_count": 0,
      "outputs": []
    },
    {
      "cell_type": "markdown",
      "metadata": {
        "id": "73taHddB7jnC",
        "colab_type": "text"
      },
      "source": [
        "Ahora, ya podemos calcular las semejanzas con los perfiles!\n",
        "\n",
        "#### Tarea!\n",
        "\n",
        "Considerando el dataframe original:\n",
        "\n",
        "*   Armar los perfiles de los usuarios considerando los tags que haya asignado a películas que haya dado una mala calificación ($<2$). Vamos a suponer que esas películas no son del agrado de los usuarios.\n",
        "  *  Para esto pueden probar de mergear los `data frames` y filtrar cómo ya hicimos antes.\n",
        "*   Dado un usuario cualquiera, encontrar el ranking de las 10 películas más disimilares que no haya rateado.\n",
        "  * Dado un usuario, pueden seleccionar su perfil.\n",
        "  * Seleccionar las películas que no haya rateado.\n",
        "  * Calcular la semejanza entre esas películas y su perfil.\n",
        "  * Ordenar y obtener las 10 más disimilares.\n",
        "\n"
      ]
    },
    {
      "cell_type": "code",
      "metadata": {
        "id": "BcCdFe9nLRvO",
        "colab_type": "code",
        "colab": {}
      },
      "source": [
        "# TODO!"
      ],
      "execution_count": 0,
      "outputs": []
    }
  ]
}